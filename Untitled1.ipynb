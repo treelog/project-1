{
 "cells": [
  {
   "cell_type": "code",
   "execution_count": 142,
   "metadata": {},
   "outputs": [],
   "source": [
    "import numpy as np\n",
    "import matplotlib.pyplot as plt\n",
    "\n",
    "np.random.seed(0)"
   ]
  },
  {
   "cell_type": "code",
   "execution_count": 143,
   "metadata": {},
   "outputs": [],
   "source": [
    "def get_volt(i):\n",
    "    \"\"\"Measure voltage.\"\"\"\n",
    "    v = np.random.normal(0, 70)   # v: measurement noise.\n",
    "    volt_true = 14.4             # volt_true: True voltage [V].\n",
    "    if i<80:\n",
    "        z_volt_meas = volt_true*i + v  # z_volt_meas: Measured Voltage [V] (observable).\n",
    "    if i>=80 and i<160:\n",
    "        z_volt_meas = -volt_true*(i-80) + v + volt_true*80\n",
    "    if i>=160:\n",
    "        z_volt_meas = + v + volt_true*(i-160)\n",
    "    #z_volt_meas += v * z_volt_meas*0.25\n",
    "    return z_volt_meas"
   ]
  },
  {
   "cell_type": "code",
   "execution_count": 144,
   "metadata": {},
   "outputs": [],
   "source": [
    "def kalman_filter(z_meas, x_esti, P):\n",
    "    \"\"\"Kalman Filter Algorithm for One Variable.\"\"\"\n",
    "    # (1) Prediction.\n",
    "    x_pred = A * x_esti\n",
    "    P_pred = A * P * A + Q\n",
    "\n",
    "    # (2) Kalman Gain.\n",
    "    K = P_pred * H / (H * P_pred * H + R)\n",
    "\n",
    "    # (3) Estimation.\n",
    "    x_esti = x_pred + K * (z_meas - H * x_pred)\n",
    "\n",
    "    # (4) Error Covariance.\n",
    "    P = P_pred - K * H * P_pred\n",
    "\n",
    "    return x_esti, P"
   ]
  },
  {
   "cell_type": "code",
   "execution_count": 145,
   "metadata": {},
   "outputs": [],
   "source": [
    "class Kalman():\n",
    "    def __init__(self):\n",
    "        self.A = 1\n",
    "        self.H = 1\n",
    "        self.Q = 1\n",
    "        self.R = 4\n",
    "        self.P = 50\n",
    "    \n",
    "    def __call__(self, z):\n",
    "        x = np.zeros(len(z))\n",
    "        x[0] = z[0]\n",
    "        for i in range(1, len(z)):\n",
    "            z_meas = z[i]\n",
    "            x[i], self.P = self.kalman_filter(z_meas, x[i-1], self.P)\n",
    "            \n",
    "        return x\n",
    "        \n",
    "    def kalman_filter(self, z_meas, x_esti, P):\n",
    "        # (1) Prediction.\n",
    "        x_pred = A * x_esti\n",
    "        P_pred = A * P * A + Q\n",
    "\n",
    "        # (2) Kalman Gain.\n",
    "        K = P_pred * H / (H * P_pred * H + R)\n",
    "\n",
    "        # (3) Estimation.\n",
    "        x_esti = x_pred + K * (z_meas - H * x_pred)\n",
    "\n",
    "        # (4) Error Covariance.\n",
    "        P = P_pred - K * H * P_pred\n",
    "\n",
    "        return x_esti, P\n",
    "    "
   ]
  },
  {
   "cell_type": "code",
   "execution_count": 146,
   "metadata": {},
   "outputs": [],
   "source": [
    "class MA():\n",
    "    def __init__(self, k):\n",
    "        self.k = k\n",
    "        \n",
    "    def __call__(self, l, start_index=0):\n",
    "        ma = []\n",
    "        for i in range(len(l)):\n",
    "            if i >= self.k - 1:\n",
    "                ma.append(np.mean(l[i - self.k + 1:i]))\n",
    "            else:\n",
    "                ma.append(np.mean(l[:self.k]))\n",
    "                \n",
    "        return ma[start_index:]"
   ]
  },
  {
   "cell_type": "code",
   "execution_count": 147,
   "metadata": {},
   "outputs": [],
   "source": [
    "# Input parameters.\n",
    "time_end = 48\n",
    "dt = 0.2"
   ]
  },
  {
   "cell_type": "code",
   "execution_count": 165,
   "metadata": {},
   "outputs": [],
   "source": [
    "# Initialization for system model.\n",
    "A = 1\n",
    "H = 1\n",
    "Q = 0.0001\n",
    "R = 4\n",
    "# Initialization for estimation.\n",
    "x_0 = 12  # 14 for book.\n",
    "P_0 = 50"
   ]
  },
  {
   "cell_type": "code",
   "execution_count": 166,
   "metadata": {},
   "outputs": [],
   "source": [
    "time = np.arange(0, time_end, dt)\n",
    "n_samples = len(time)\n",
    "volt_meas_save = np.zeros(n_samples)\n",
    "volt_esti_save = np.zeros(n_samples)"
   ]
  },
  {
   "cell_type": "code",
   "execution_count": 167,
   "metadata": {},
   "outputs": [],
   "source": [
    "x_esti, P = None, None\n",
    "z = []\n",
    "for i in range(n_samples):\n",
    "    z_meas = get_volt(i)\n",
    "    z.append(z_meas)\n",
    "    if i == 0:\n",
    "        x_esti, P = x_0, P_0\n",
    "    else:\n",
    "        x_esti, P = kalman_filter(z_meas, x_esti, P)\n",
    "\n",
    "    volt_meas_save[i] = z_meas\n",
    "    volt_esti_save[i] = x_esti"
   ]
  },
  {
   "cell_type": "code",
   "execution_count": 168,
   "metadata": {},
   "outputs": [],
   "source": [
    "kalman = Kalman()\n",
    "ma = MA(100)\n",
    "volt_esti_save = kalman(z)\n",
    "volt_esti_save_ma = ma(z)"
   ]
  },
  {
   "cell_type": "code",
   "execution_count": 169,
   "metadata": {},
   "outputs": [
    {
     "data": {
      "text/plain": [
       "Text(0, 0.5, 'Voltage [V]')"
      ]
     },
     "execution_count": 169,
     "metadata": {},
     "output_type": "execute_result"
    },
    {
     "data": {
      "image/png": "[encoded data removed]",
      "text/plain": [
       "<Figure size 432x288 with 1 Axes>"
      ]
     },
     "metadata": {
      "needs_background": "light"
     },
     "output_type": "display_data"
    }
   ],
   "source": [
    "plt.plot(time, volt_meas_save, 'r*--', label='Measurements')\n",
    "plt.plot(time, volt_esti_save, 'bo-', label='Kalman Filter')\n",
    "plt.plot(time, volt_esti_save_ma, 'go-', label='MA Filter')\n",
    "plt.legend(loc='upper left')\n",
    "plt.title('Measurements v.s. Estimation (Kalman Filter)')\n",
    "plt.xlabel('Time [sec]')\n",
    "plt.ylabel('Voltage [V]')\n"
   ]
  },
  {
   "cell_type": "code",
   "execution_count": null,
   "metadata": {},
   "outputs": [],
   "source": []
  },
  {
   "cell_type": "code",
   "execution_count": null,
   "metadata": {},
   "outputs": [],
   "source": []
  }
 ],
 "metadata": {
  "kernelspec": {
   "display_name": "Python 3",
   "language": "python",
   "name": "python3"
  },
  "language_info": {
   "codemirror_mode": {
    "name": "ipython",
    "version": 3
   },
   "file_extension": ".py",
   "mimetype": "text/x-python",
   "name": "python",
   "nbconvert_exporter": "python",
   "pygments_lexer": "ipython3",
   "version": "3.8.3"
  }
 },
 "nbformat": 4,
 "nbformat_minor": 4
}
